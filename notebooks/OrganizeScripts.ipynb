{
 "cells": [
  {
   "cell_type": "markdown",
   "id": "336a9dd3-dc41-483d-82ba-a52baa5311bb",
   "metadata": {},
   "source": [
    "# Organize Scripts\n",
    "\n",
    "- Move reusable functions into `src/` folders\n",
    "- Make code modular and GitHub-friendly\n",
    "- Provide clear README for scripts\n"
   ]
  },
  {
   "cell_type": "code",
   "execution_count": 1,
   "id": "16dbc3cf-4d76-4306-947f-feebd70459f2",
   "metadata": {},
   "outputs": [
    {
     "name": "stdout",
     "output_type": "stream",
     "text": [
      "✅ Script folders and READMEs created\n"
     ]
    }
   ],
   "source": [
    "from pathlib import Path\n",
    "\n",
    "project_path = Path(\"/home/skumar/Desktop/credit-risk-analytics\")\n",
    "\n",
    "# Script folders\n",
    "scripts_folders = [\n",
    "    project_path / \"scripts\",\n",
    "    project_path / \"tests\",\n",
    "    project_path / \"src/credit_risk\",\n",
    "    project_path / \"src/risk_models\"\n",
    "]\n",
    "\n",
    "for folder in scripts_folders:\n",
    "    folder.mkdir(parents=True, exist_ok=True)\n",
    "\n",
    "# Add README.md to explain folder\n",
    "for folder in [project_path / \"scripts\", project_path / \"tests\"]:\n",
    "    readme_file = folder / \"README.md\"\n",
    "    if not readme_file.exists():\n",
    "        readme_file.write_text(f\"# {folder.name.capitalize()} folder\\n\\nContains scripts for the project.\")\n",
    "        \n",
    "print(\"✅ Script folders and READMEs created\")\n"
   ]
  },
  {
   "cell_type": "markdown",
   "id": "084b5a4e-9537-4520-ad96-849c40f7af3e",
   "metadata": {},
   "source": [
    "- Move existing functions from notebooks into scripts in `src/`:\n",
    "    - Model functions → `src/credit_risk/`\n",
    "    - Simulation functions → `src/risk_models/`\n",
    "- Each script should be importable:\n",
    "    ```python\n",
    "    from src.credit_risk.model_functions import build_PD_model\n",
    "    ```\n",
    "- Keep notebook code clean by importing functions instead of copying.\n"
   ]
  },
  {
   "cell_type": "code",
   "execution_count": null,
   "id": "9fb253ad-914f-475f-ac23-30958f21ec19",
   "metadata": {},
   "outputs": [],
   "source": []
  }
 ],
 "metadata": {
  "kernelspec": {
   "display_name": "Python 3 (ipykernel)",
   "language": "python",
   "name": "python3"
  },
  "language_info": {
   "codemirror_mode": {
    "name": "ipython",
    "version": 3
   },
   "file_extension": ".py",
   "mimetype": "text/x-python",
   "name": "python",
   "nbconvert_exporter": "python",
   "pygments_lexer": "ipython3",
   "version": "3.11.2"
  }
 },
 "nbformat": 4,
 "nbformat_minor": 5
}
