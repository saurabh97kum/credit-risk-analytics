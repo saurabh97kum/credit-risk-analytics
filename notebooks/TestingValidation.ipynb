{
 "cells": [
  {
   "cell_type": "markdown",
   "id": "139c6d9e-7eb0-40d0-a21b-3201a860c863",
   "metadata": {},
   "source": [
    "# Testing and Validation\n",
    "\n",
    "- Validate Monte Carlo simulation\n",
    "- Check portfolio data integrity\n",
    "- Test SQL insertions and queries\n"
   ]
  },
  {
   "cell_type": "code",
   "execution_count": 1,
   "id": "ada7b72c-9724-46b6-baf2-3cae541b983e",
   "metadata": {},
   "outputs": [],
   "source": [
    "import sqlite3\n",
    "import pandas as pd\n",
    "import numpy as np\n",
    "from pathlib import Path\n",
    "\n",
    "project_path = Path(\"/home/skumar/Desktop/credit-risk-analytics\")\n",
    "db_path = project_path / \"sql/credit_portfolio.db\"\n",
    "\n",
    "conn = sqlite3.connect(db_path)\n",
    "cursor = conn.cursor()\n"
   ]
  },
  {
   "cell_type": "code",
   "execution_count": 2,
   "id": "ddd5e050-e61d-40e8-8365-7a45b914fd94",
   "metadata": {},
   "outputs": [
    {
     "name": "stdout",
     "output_type": "stream",
     "text": [
      "✅ Portfolio table row count matches CSV\n"
     ]
    }
   ],
   "source": [
    "# Check number of rows matches CSV\n",
    "portfolio_csv = project_path / \"data/input_raw/credit_portfolio.csv\"\n",
    "portfolio_df = pd.read_csv(portfolio_csv)\n",
    "\n",
    "cursor.execute(\"SELECT COUNT(*) FROM portfolio\")\n",
    "rows_in_db = cursor.fetchone()[0]\n",
    "\n",
    "assert rows_in_db == len(portfolio_df), f\"Row mismatch! CSV: {len(portfolio_df)}, DB: {rows_in_db}\"\n",
    "print(\"✅ Portfolio table row count matches CSV\")\n"
   ]
  },
  {
   "cell_type": "code",
   "execution_count": 3,
   "id": "f61d2ae8-f3f6-4e5d-a6dc-b92973087046",
   "metadata": {},
   "outputs": [
    {
     "name": "stdout",
     "output_type": "stream",
     "text": [
      "Simulation table has 10000 rows\n",
      "Average portfolio loss: 5675571.79, Max loss: 9111867.62\n"
     ]
    }
   ],
   "source": [
    "# Check simulation results\n",
    "cursor.execute(\"SELECT COUNT(*) FROM simulation_results\")\n",
    "sim_rows = cursor.fetchone()[0]\n",
    "print(f\"Simulation table has {sim_rows} rows\")\n",
    "\n",
    "# Optional: quick stats check\n",
    "cursor.execute(\"SELECT AVG(portfolio_loss), MAX(portfolio_loss) FROM simulation_results\")\n",
    "avg_loss, max_loss = cursor.fetchone()\n",
    "print(f\"Average portfolio loss: {avg_loss:.2f}, Max loss: {max_loss:.2f}\")\n"
   ]
  },
  {
   "cell_type": "code",
   "execution_count": 4,
   "id": "b857020b-9357-4cbb-8d6c-1cd6490e5881",
   "metadata": {},
   "outputs": [
    {
     "name": "stdout",
     "output_type": "stream",
     "text": [
      "✅ Database connection closed\n"
     ]
    }
   ],
   "source": [
    "conn.close()\n",
    "print(\"✅ Database connection closed\")\n"
   ]
  },
  {
   "cell_type": "code",
   "execution_count": null,
   "id": "822f0770-4f9a-499b-8531-87bf84176f66",
   "metadata": {},
   "outputs": [],
   "source": []
  }
 ],
 "metadata": {
  "kernelspec": {
   "display_name": "Python 3 (ipykernel)",
   "language": "python",
   "name": "python3"
  },
  "language_info": {
   "codemirror_mode": {
    "name": "ipython",
    "version": 3
   },
   "file_extension": ".py",
   "mimetype": "text/x-python",
   "name": "python",
   "nbconvert_exporter": "python",
   "pygments_lexer": "ipython3",
   "version": "3.11.2"
  }
 },
 "nbformat": 4,
 "nbformat_minor": 5
}
