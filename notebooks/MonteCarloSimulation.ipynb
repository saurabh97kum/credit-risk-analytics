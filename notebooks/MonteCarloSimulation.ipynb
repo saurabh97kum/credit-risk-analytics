{
 "cells": [
  {
   "cell_type": "markdown",
   "id": "3214ec5a-4e29-4063-b3c9-51c16aa673b0",
   "metadata": {},
   "source": [
    "# Monte Carlo Simulation of Portfolio Loss\n",
    "\n",
    "**Goal:**  \n",
    "Use PD, LGD, and EAD to simulate losses for each borrower over many scenarios.  \n",
    "\n",
    "**Steps:**\n",
    "1. Sample borrower defaults based on PD probabilities.\n",
    "2. Compute individual losses: `Loss = LGD * EAD` if default occurs.\n",
    "3. Repeat for N Monte Carlo iterations to get loss distribution.\n",
    "4. Compute portfolio metrics: Expected Loss (EL) and 95% Value at Risk (VaR).\n"
   ]
  },
  {
   "cell_type": "code",
   "execution_count": 1,
   "id": "7b8d72b9-8cd8-41f2-86a7-484b415fea0b",
   "metadata": {},
   "outputs": [
    {
     "name": "stdout",
     "output_type": "stream",
     "text": [
      "✅ Dataset ready for Monte Carlo simulation\n"
     ]
    },
    {
     "data": {
      "text/html": [
       "<div>\n",
       "<style scoped>\n",
       "    .dataframe tbody tr th:only-of-type {\n",
       "        vertical-align: middle;\n",
       "    }\n",
       "\n",
       "    .dataframe tbody tr th {\n",
       "        vertical-align: top;\n",
       "    }\n",
       "\n",
       "    .dataframe thead th {\n",
       "        text-align: right;\n",
       "    }\n",
       "</style>\n",
       "<table border=\"1\" class=\"dataframe\">\n",
       "  <thead>\n",
       "    <tr style=\"text-align: right;\">\n",
       "      <th></th>\n",
       "      <th>BorrowerID</th>\n",
       "      <th>Age</th>\n",
       "      <th>Income</th>\n",
       "      <th>CreditScore</th>\n",
       "      <th>LoanAmount</th>\n",
       "      <th>InterestRate</th>\n",
       "      <th>TermMonths</th>\n",
       "      <th>PD</th>\n",
       "      <th>LGD</th>\n",
       "      <th>EAD</th>\n",
       "      <th>PD_pred</th>\n",
       "      <th>LGD_pred</th>\n",
       "      <th>EAD_pred</th>\n",
       "    </tr>\n",
       "  </thead>\n",
       "  <tbody>\n",
       "    <tr>\n",
       "      <th>0</th>\n",
       "      <td>1</td>\n",
       "      <td>59</td>\n",
       "      <td>24324</td>\n",
       "      <td>766</td>\n",
       "      <td>136717</td>\n",
       "      <td>0.0837</td>\n",
       "      <td>24</td>\n",
       "      <td>0.0599</td>\n",
       "      <td>0.3606</td>\n",
       "      <td>121789.20</td>\n",
       "      <td>0.0599</td>\n",
       "      <td>0.3606</td>\n",
       "      <td>121789.20</td>\n",
       "    </tr>\n",
       "    <tr>\n",
       "      <th>1</th>\n",
       "      <td>2</td>\n",
       "      <td>49</td>\n",
       "      <td>96323</td>\n",
       "      <td>713</td>\n",
       "      <td>167002</td>\n",
       "      <td>0.1396</td>\n",
       "      <td>12</td>\n",
       "      <td>0.0442</td>\n",
       "      <td>0.3472</td>\n",
       "      <td>150060.00</td>\n",
       "      <td>0.0442</td>\n",
       "      <td>0.3472</td>\n",
       "      <td>150060.00</td>\n",
       "    </tr>\n",
       "    <tr>\n",
       "      <th>2</th>\n",
       "      <td>3</td>\n",
       "      <td>35</td>\n",
       "      <td>29111</td>\n",
       "      <td>754</td>\n",
       "      <td>266691</td>\n",
       "      <td>0.0972</td>\n",
       "      <td>48</td>\n",
       "      <td>0.0248</td>\n",
       "      <td>0.1261</td>\n",
       "      <td>233692.63</td>\n",
       "      <td>0.0248</td>\n",
       "      <td>0.1261</td>\n",
       "      <td>233692.63</td>\n",
       "    </tr>\n",
       "    <tr>\n",
       "      <th>3</th>\n",
       "      <td>4</td>\n",
       "      <td>63</td>\n",
       "      <td>58110</td>\n",
       "      <td>532</td>\n",
       "      <td>86835</td>\n",
       "      <td>0.1512</td>\n",
       "      <td>12</td>\n",
       "      <td>0.1105</td>\n",
       "      <td>0.1895</td>\n",
       "      <td>72685.55</td>\n",
       "      <td>0.1105</td>\n",
       "      <td>0.1895</td>\n",
       "      <td>72685.55</td>\n",
       "    </tr>\n",
       "    <tr>\n",
       "      <th>4</th>\n",
       "      <td>5</td>\n",
       "      <td>28</td>\n",
       "      <td>36389</td>\n",
       "      <td>523</td>\n",
       "      <td>127232</td>\n",
       "      <td>0.0639</td>\n",
       "      <td>60</td>\n",
       "      <td>0.1209</td>\n",
       "      <td>0.1278</td>\n",
       "      <td>110827.12</td>\n",
       "      <td>0.1209</td>\n",
       "      <td>0.1278</td>\n",
       "      <td>110827.12</td>\n",
       "    </tr>\n",
       "  </tbody>\n",
       "</table>\n",
       "</div>"
      ],
      "text/plain": [
       "   BorrowerID  Age  Income  CreditScore  LoanAmount  InterestRate  TermMonths  \\\n",
       "0           1   59   24324          766      136717        0.0837          24   \n",
       "1           2   49   96323          713      167002        0.1396          12   \n",
       "2           3   35   29111          754      266691        0.0972          48   \n",
       "3           4   63   58110          532       86835        0.1512          12   \n",
       "4           5   28   36389          523      127232        0.0639          60   \n",
       "\n",
       "       PD     LGD        EAD  PD_pred  LGD_pred   EAD_pred  \n",
       "0  0.0599  0.3606  121789.20   0.0599    0.3606  121789.20  \n",
       "1  0.0442  0.3472  150060.00   0.0442    0.3472  150060.00  \n",
       "2  0.0248  0.1261  233692.63   0.0248    0.1261  233692.63  \n",
       "3  0.1105  0.1895   72685.55   0.1105    0.1895   72685.55  \n",
       "4  0.1209  0.1278  110827.12   0.1209    0.1278  110827.12  "
      ]
     },
     "execution_count": 1,
     "metadata": {},
     "output_type": "execute_result"
    }
   ],
   "source": [
    "import pandas as pd\n",
    "import numpy as np\n",
    "from pathlib import Path\n",
    "\n",
    "# Path to dataset\n",
    "project_path = Path(\"/home/skumar/Desktop/credit-risk-analytics\")\n",
    "csv_file = project_path / \"data/input_raw/credit_portfolio.csv\"\n",
    "\n",
    "# Load dataset\n",
    "data = pd.read_csv(csv_file)\n",
    "\n",
    "# For simplicity, we will use the predicted values from Step-4 models\n",
    "# Here, assume we have arrays y_pred_pd, y_pred_lgd, y_pred_ead\n",
    "# For demonstration, we can use synthetic PD, LGD, EAD from dataset\n",
    "data[\"PD_pred\"] = data[\"PD\"]  # predicted PD\n",
    "data[\"LGD_pred\"] = data[\"LGD\"]  # predicted LGD\n",
    "data[\"EAD_pred\"] = data[\"EAD\"]  # predicted EAD\n",
    "\n",
    "print(\"✅ Dataset ready for Monte Carlo simulation\")\n",
    "data.head()\n"
   ]
  },
  {
   "cell_type": "markdown",
   "id": "0afc9602-3850-4300-924d-df97f6ced3b9",
   "metadata": {},
   "source": [
    "## Monte Carlo Simulation Logic\n",
    "\n",
    "For each iteration:\n",
    "1. Generate random numbers for each borrower.\n",
    "2. If random number < PD → borrower defaults.\n",
    "3. Loss = LGD * EAD for defaulted borrowers.\n",
    "4. Sum all borrower losses → total portfolio loss for iteration.\n",
    "5. Repeat N times to get distribution of portfolio losses.\n"
   ]
  },
  {
   "cell_type": "code",
   "execution_count": 2,
   "id": "9ccb1a18-88e1-4473-81d5-03325bdffb60",
   "metadata": {},
   "outputs": [
    {
     "name": "stdout",
     "output_type": "stream",
     "text": [
      "✅ Monte Carlo simulation completed\n"
     ]
    }
   ],
   "source": [
    "# Number of Monte Carlo simulations\n",
    "n_simulations = 10000\n",
    "\n",
    "# Store portfolio losses\n",
    "portfolio_losses = []\n",
    "\n",
    "# Run simulation\n",
    "for i in range(n_simulations):\n",
    "    # Random numbers for defaults\n",
    "    random_numbers = np.random.rand(len(data))\n",
    "    \n",
    "    # Determine defaults\n",
    "    defaults = random_numbers < data[\"PD_pred\"]\n",
    "    \n",
    "    # Calculate losses\n",
    "    losses = defaults * data[\"LGD_pred\"] * data[\"EAD_pred\"]\n",
    "    \n",
    "    # Total portfolio loss\n",
    "    portfolio_losses.append(losses.sum())\n",
    "\n",
    "portfolio_losses = np.array(portfolio_losses)\n",
    "print(\"✅ Monte Carlo simulation completed\")\n"
   ]
  },
  {
   "cell_type": "markdown",
   "id": "5e9407bb-c069-43f3-b096-382e81436c37",
   "metadata": {},
   "source": [
    "## Portfolio Loss Analysis\n",
    "\n",
    "- Compute Expected Loss (EL)\n",
    "- Compute 95% Value at Risk (VaR)\n",
    "- Visualize loss distribution\n"
   ]
  },
  {
   "cell_type": "code",
   "execution_count": 3,
   "id": "dbae0f0b-5a9a-46a9-b38b-2e5ad82ce06e",
   "metadata": {},
   "outputs": [
    {
     "name": "stdout",
     "output_type": "stream",
     "text": [
      "✅ Expected Loss (EL): 5,685,178.61\n",
      "✅ 95% Value at Risk (VaR 95%): 6,916,475.77\n"
     ]
    }
   ],
   "source": [
    "# Expected Loss (mean)\n",
    "expected_loss = portfolio_losses.mean()\n",
    "\n",
    "# 95% Value at Risk (percentile)\n",
    "var_95 = np.percentile(portfolio_losses, 95)\n",
    "\n",
    "print(f\"✅ Expected Loss (EL): {expected_loss:,.2f}\")\n",
    "print(f\"✅ 95% Value at Risk (VaR 95%): {var_95:,.2f}\")\n"
   ]
  },
  {
   "cell_type": "code",
   "execution_count": 4,
   "id": "87eba93c-63c0-4479-9384-48d8789e784f",
   "metadata": {},
   "outputs": [
    {
     "data": {
      "image/png": "[encoded data removed]",
      "text/plain": [
       "<Figure size 1000x600 with 1 Axes>"
      ]
     },
     "metadata": {},
     "output_type": "display_data"
    }
   ],
   "source": [
    "import matplotlib.pyplot as plt\n",
    "import seaborn as sns\n",
    "\n",
    "sns.set(style=\"whitegrid\")\n",
    "\n",
    "plt.figure(figsize=(10,6))\n",
    "sns.histplot(portfolio_losses, bins=50, kde=True, color=\"skyblue\")\n",
    "plt.title(\"Monte Carlo Simulation: Portfolio Loss Distribution\")\n",
    "plt.xlabel(\"Portfolio Loss\")\n",
    "plt.ylabel(\"Frequency\")\n",
    "plt.axvline(expected_loss, color=\"red\", linestyle=\"--\", label=f\"Expected Loss: {expected_loss:,.0f}\")\n",
    "plt.axvline(var_95, color=\"green\", linestyle=\"--\", label=f\"VaR 95%: {var_95:,.0f}\")\n",
    "plt.legend()\n",
    "plt.show()\n"
   ]
  },
  {
   "cell_type": "markdown",
   "id": "5cee30d9-d1ce-41fd-bd7e-586b0992e84d",
   "metadata": {},
   "source": [
    "### Summary\n",
    "\n",
    "- Monte Carlo simulation completed with 10,000 iterations\n",
    "- Portfolio loss distribution plotted\n",
    "- Metrics computed:\n",
    "  - Expected Loss (EL)\n",
    "  - 95% Value at Risk (VaR)\n",
    "- Ready to use simulated losses for **report generation**\n"
   ]
  },
  {
   "cell_type": "code",
   "execution_count": 6,
   "id": "32295f42-1068-45e6-a4e0-76d84e940211",
   "metadata": {},
   "outputs": [
    {
     "name": "stdout",
     "output_type": "stream",
     "text": [
      "✅ Report folders ready\n"
     ]
    }
   ],
   "source": [
    "from pathlib import Path\n",
    "import pandas as pd\n",
    "\n",
    "# Base project path\n",
    "project_path = Path(\"/home/skumar/Desktop/credit-risk-analytics\")\n",
    "\n",
    "# Paths to save figures and Excel reports\n",
    "figures_path = project_path / \"reports/figures\"\n",
    "outputs_path = project_path / \"reports/outputs\"\n",
    "\n",
    "# Create folders if they don't exist\n",
    "figures_path.mkdir(parents=True, exist_ok=True)\n",
    "outputs_path.mkdir(parents=True, exist_ok=True)\n",
    "\n",
    "print(\"✅ Report folders ready\")\n"
   ]
  },
  {
   "cell_type": "code",
   "execution_count": 7,
   "id": "f084ece7-d228-4b19-a042-afc423c2583c",
   "metadata": {},
   "outputs": [
    {
     "name": "stdout",
     "output_type": "stream",
     "text": [
      "✅ Excel report saved at: /home/skumar/Desktop/credit-risk-analytics/reports/outputs/Portfolio_Report.xlsx\n"
     ]
    }
   ],
   "source": [
    "# Create a Pandas Excel writer\n",
    "excel_file = outputs_path / \"Portfolio_Report.xlsx\"\n",
    "with pd.ExcelWriter(excel_file, engine=\"xlsxwriter\") as writer:\n",
    "    \n",
    "    # Portfolio Loss Summary\n",
    "    loss_summary = pd.DataFrame({\n",
    "        \"Metric\": [\"Expected Loss\", \"VaR 95%\"],\n",
    "        \"Value\": [expected_loss, var_95]\n",
    "    })\n",
    "    loss_summary.to_excel(writer, sheet_name=\"Portfolio_Loss\", index=False)\n",
    "    \n",
    "    # Model Predictions Summary\n",
    "    model_summary = data[[\"BorrowerID\", \"PD_pred\", \"LGD_pred\", \"EAD_pred\"]]\n",
    "    model_summary.to_excel(writer, sheet_name=\"Model_Predictions\", index=False)\n",
    "\n",
    "print(f\"✅ Excel report saved at: {excel_file}\")\n"
   ]
  },
  {
   "cell_type": "code",
   "execution_count": null,
   "id": "69cd0236-f262-4b97-bfd4-329366b4c00a",
   "metadata": {},
   "outputs": [],
   "source": []
  }
 ],
 "metadata": {
  "kernelspec": {
   "display_name": "Python 3 (ipykernel)",
   "language": "python",
   "name": "python3"
  },
  "language_info": {
   "codemirror_mode": {
    "name": "ipython",
    "version": 3
   },
   "file_extension": ".py",
   "mimetype": "text/x-python",
   "name": "python",
   "nbconvert_exporter": "python",
   "pygments_lexer": "ipython3",
   "version": "3.11.2"
  }
 },
 "nbformat": 4,
 "nbformat_minor": 5
}
