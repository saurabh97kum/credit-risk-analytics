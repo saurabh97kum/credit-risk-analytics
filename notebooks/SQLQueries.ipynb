{
 "cells": [
  {
   "cell_type": "markdown",
   "id": "964fed0c-f968-4f07-a434-da8d73676a2a",
   "metadata": {},
   "source": [
    "\n",
    "# Store and Query Portfolio Data with SQL\n",
    "\n",
    "This notebook demonstrates how to store:\n",
    "- Monte Carlo simulated portfolio losses\n",
    "- Predicted PD, LGD, EAD values\n",
    "- Summary metrics\n",
    "\n",
    "in a SQL database (SQLite for local demonstration) and perform basic queries.\n"
   ]
  },
  {
   "cell_type": "code",
   "execution_count": 2,
   "id": "1cb27fc9-ccb3-48af-ba3a-7218dde123bd",
   "metadata": {},
   "outputs": [
    {
     "name": "stdout",
     "output_type": "stream",
     "text": [
      "✅ Paths set. Database will be at: /home/skumar/Desktop/credit-risk-analytics/sql/credit_portfolio.db\n"
     ]
    }
   ],
   "source": [
    "# Import necessary libraries\n",
    "import sqlite3\n",
    "import pandas as pd\n",
    "from pathlib import Path\n",
    "\n",
    "# Base project folder\n",
    "project_path = Path(\"/home/skumar/Desktop/credit-risk-analytics\")\n",
    "\n",
    "# Paths for data and SQL\n",
    "data_path = project_path / \"data/input_raw/credit_portfolio.csv\"\n",
    "monte_carlo_path = project_path / \"data/processed/monte_carlo_results.csv\"\n",
    "sql_path = project_path / \"sql\"\n",
    "sql_path.mkdir(parents=True, exist_ok=True)  # make sure folder exists\n",
    "\n",
    "# Path to SQLite database\n",
    "db_path = sql_path / \"credit_portfolio.db\"\n",
    "\n",
    "print(\"✅ Paths set. Database will be at:\", db_path)\n"
   ]
  },
  {
   "cell_type": "markdown",
   "id": "392231c7-bff2-4957-b61a-4cd2269c0f5a",
   "metadata": {},
   "source": [
    "## Load Portfolio Data and Monte Carlo Results\n"
   ]
  },
  {
   "cell_type": "code",
   "execution_count": 3,
   "id": "c7164604-6a5c-4051-bc6c-977895ae4846",
   "metadata": {},
   "outputs": [
    {
     "name": "stdout",
     "output_type": "stream",
     "text": [
      "✅ Monte Carlo results simulated and saved\n"
     ]
    }
   ],
   "source": [
    "# Load portfolio CSV\n",
    "portfolio_df = pd.read_csv(data_path)\n",
    "\n",
    "# For demonstration, assume PD, LGD, EAD predictions are present\n",
    "portfolio_df[\"PD_pred\"] = portfolio_df[\"PD\"]\n",
    "portfolio_df[\"LGD_pred\"] = portfolio_df[\"LGD\"]\n",
    "portfolio_df[\"EAD_pred\"] = portfolio_df[\"EAD\"]\n",
    "\n",
    "# Load or simulate Monte Carlo results\n",
    "try:\n",
    "    mc_results = pd.read_csv(monte_carlo_path)\n",
    "except FileNotFoundError:\n",
    "    import numpy as np\n",
    "    n_simulations = 10000\n",
    "    portfolio_losses = []\n",
    "\n",
    "    for i in range(n_simulations):\n",
    "        random_numbers = np.random.rand(len(portfolio_df))\n",
    "        defaults = random_numbers < portfolio_df[\"PD_pred\"]\n",
    "        losses = defaults * portfolio_df[\"LGD_pred\"] * portfolio_df[\"EAD_pred\"]\n",
    "        portfolio_losses.append(losses.sum())\n",
    "    mc_results = pd.DataFrame({\"portfolio_loss\": portfolio_losses})\n",
    "    mc_results.to_csv(monte_carlo_path, index=False)\n",
    "    print(\"✅ Monte Carlo results simulated and saved\")\n"
   ]
  },
  {
   "cell_type": "markdown",
   "id": "90895a40-9cff-4dd6-8f66-802eb834ea18",
   "metadata": {},
   "source": [
    "## Create Database and Tables\n"
   ]
  },
  {
   "cell_type": "code",
   "execution_count": 4,
   "id": "8a2f07fe-55d2-4e72-a758-b12985e2069b",
   "metadata": {},
   "outputs": [
    {
     "name": "stdout",
     "output_type": "stream",
     "text": [
      "✅ Database and tables created\n"
     ]
    }
   ],
   "source": [
    "# Connect to SQLite (creates file if it doesn't exist)\n",
    "conn = sqlite3.connect(db_path)\n",
    "cursor = conn.cursor()\n",
    "\n",
    "# Create portfolio table\n",
    "cursor.execute(\"\"\"\n",
    "CREATE TABLE IF NOT EXISTS portfolio (\n",
    "    id INTEGER PRIMARY KEY,\n",
    "    exposure REAL,\n",
    "    PD REAL,\n",
    "    LGD REAL,\n",
    "    EAD REAL,\n",
    "    PD_pred REAL,\n",
    "    LGD_pred REAL,\n",
    "    EAD_pred REAL\n",
    ")\n",
    "\"\"\")\n",
    "\n",
    "# Create simulation results table\n",
    "cursor.execute(\"\"\"\n",
    "CREATE TABLE IF NOT EXISTS simulation_results (\n",
    "    id INTEGER PRIMARY KEY,\n",
    "    simulation_num INTEGER,\n",
    "    portfolio_loss REAL\n",
    ")\n",
    "\"\"\")\n",
    "\n",
    "conn.commit()\n",
    "print(\"✅ Database and tables created\")\n"
   ]
  },
  {
   "cell_type": "markdown",
   "id": "8aa39af7-2c03-4324-bcd1-4a22c8f1f2ba",
   "metadata": {},
   "source": [
    "## Insert Portfolio Data and Simulation Results\n"
   ]
  },
  {
   "cell_type": "code",
   "execution_count": 7,
   "id": "cb0f8e83-0c89-45c9-9a61-6a03b364ed7e",
   "metadata": {},
   "outputs": [
    {
     "name": "stdout",
     "output_type": "stream",
     "text": [
      "✅ Portfolio data inserted successfully\n"
     ]
    }
   ],
   "source": [
    "# Ensure predicted columns exist\n",
    "portfolio_df[\"PD_pred\"] = portfolio_df[\"PD\"]\n",
    "portfolio_df[\"LGD_pred\"] = portfolio_df[\"LGD\"]\n",
    "portfolio_df[\"EAD_pred\"] = portfolio_df[\"EAD\"]\n",
    "\n",
    "# Only use columns that actually exist in your DataFrame\n",
    "columns_to_insert = ['PD','LGD','EAD','PD_pred','LGD_pred','EAD_pred']\n",
    "\n",
    "# Convert to records for SQLite insertion\n",
    "portfolio_records = portfolio_df[columns_to_insert].to_records(index=False)\n",
    "\n",
    "# Insert into database\n",
    "cursor.executemany(\"\"\"\n",
    "INSERT INTO portfolio (PD, LGD, EAD, PD_pred, LGD_pred, EAD_pred)\n",
    "VALUES (?, ?, ?, ?, ?, ?)\n",
    "\"\"\", portfolio_records)\n",
    "\n",
    "conn.commit()\n",
    "print(\"✅ Portfolio data inserted successfully\")\n"
   ]
  },
  {
   "cell_type": "code",
   "execution_count": 8,
   "id": "a3df50fe-9d40-4244-9208-94766eebb856",
   "metadata": {},
   "outputs": [
    {
     "name": "stdout",
     "output_type": "stream",
     "text": [
      "✅ Simulation results inserted\n"
     ]
    }
   ],
   "source": [
    "simulation_records = [(i+1, loss) for i, loss in enumerate(mc_results['portfolio_loss'])]\n",
    "cursor.executemany(\"\"\"\n",
    "INSERT INTO simulation_results (simulation_num, portfolio_loss)\n",
    "VALUES (?, ?)\n",
    "\"\"\", simulation_records)\n",
    "\n",
    "conn.commit()\n",
    "print(\"✅ Simulation results inserted\")\n"
   ]
  },
  {
   "cell_type": "markdown",
   "id": "f428e4b3-33c5-4968-8b50-c160bb253f04",
   "metadata": {},
   "source": [
    "## Query Examples\n"
   ]
  },
  {
   "cell_type": "code",
   "execution_count": 9,
   "id": "23dacd80-7d92-4c1c-89bd-56d3537d4277",
   "metadata": {},
   "outputs": [
    {
     "data": {
      "text/html": [
       "<div>\n",
       "<style scoped>\n",
       "    .dataframe tbody tr th:only-of-type {\n",
       "        vertical-align: middle;\n",
       "    }\n",
       "\n",
       "    .dataframe tbody tr th {\n",
       "        vertical-align: top;\n",
       "    }\n",
       "\n",
       "    .dataframe thead th {\n",
       "        text-align: right;\n",
       "    }\n",
       "</style>\n",
       "<table border=\"1\" class=\"dataframe\">\n",
       "  <thead>\n",
       "    <tr style=\"text-align: right;\">\n",
       "      <th></th>\n",
       "      <th>id</th>\n",
       "      <th>simulation_num</th>\n",
       "      <th>portfolio_loss</th>\n",
       "    </tr>\n",
       "  </thead>\n",
       "  <tbody>\n",
       "    <tr>\n",
       "      <th>0</th>\n",
       "      <td>450</td>\n",
       "      <td>450</td>\n",
       "      <td>9.111868e+06</td>\n",
       "    </tr>\n",
       "    <tr>\n",
       "      <th>1</th>\n",
       "      <td>6944</td>\n",
       "      <td>6944</td>\n",
       "      <td>8.940465e+06</td>\n",
       "    </tr>\n",
       "    <tr>\n",
       "      <th>2</th>\n",
       "      <td>8427</td>\n",
       "      <td>8427</td>\n",
       "      <td>8.725930e+06</td>\n",
       "    </tr>\n",
       "    <tr>\n",
       "      <th>3</th>\n",
       "      <td>7921</td>\n",
       "      <td>7921</td>\n",
       "      <td>8.572688e+06</td>\n",
       "    </tr>\n",
       "    <tr>\n",
       "      <th>4</th>\n",
       "      <td>4423</td>\n",
       "      <td>4423</td>\n",
       "      <td>8.428916e+06</td>\n",
       "    </tr>\n",
       "  </tbody>\n",
       "</table>\n",
       "</div>"
      ],
      "text/plain": [
       "     id  simulation_num  portfolio_loss\n",
       "0   450             450    9.111868e+06\n",
       "1  6944            6944    8.940465e+06\n",
       "2  8427            8427    8.725930e+06\n",
       "3  7921            7921    8.572688e+06\n",
       "4  4423            4423    8.428916e+06"
      ]
     },
     "execution_count": 9,
     "metadata": {},
     "output_type": "execute_result"
    }
   ],
   "source": [
    "query = \"SELECT * FROM simulation_results ORDER BY portfolio_loss DESC LIMIT 5\"\n",
    "top_losses = pd.read_sql_query(query, conn)\n",
    "top_losses\n"
   ]
  },
  {
   "cell_type": "code",
   "execution_count": 10,
   "id": "8a34409f-38be-4d6a-9b17-ad70203bd96a",
   "metadata": {},
   "outputs": [
    {
     "data": {
      "text/html": [
       "<div>\n",
       "<style scoped>\n",
       "    .dataframe tbody tr th:only-of-type {\n",
       "        vertical-align: middle;\n",
       "    }\n",
       "\n",
       "    .dataframe tbody tr th {\n",
       "        vertical-align: top;\n",
       "    }\n",
       "\n",
       "    .dataframe thead th {\n",
       "        text-align: right;\n",
       "    }\n",
       "</style>\n",
       "<table border=\"1\" class=\"dataframe\">\n",
       "  <thead>\n",
       "    <tr style=\"text-align: right;\">\n",
       "      <th></th>\n",
       "      <th>expected_loss</th>\n",
       "      <th>max_loss</th>\n",
       "      <th>min_loss</th>\n",
       "    </tr>\n",
       "  </thead>\n",
       "  <tbody>\n",
       "    <tr>\n",
       "      <th>0</th>\n",
       "      <td>5.675572e+06</td>\n",
       "      <td>9.111868e+06</td>\n",
       "      <td>3.105741e+06</td>\n",
       "    </tr>\n",
       "  </tbody>\n",
       "</table>\n",
       "</div>"
      ],
      "text/plain": [
       "   expected_loss      max_loss      min_loss\n",
       "0   5.675572e+06  9.111868e+06  3.105741e+06"
      ]
     },
     "execution_count": 10,
     "metadata": {},
     "output_type": "execute_result"
    }
   ],
   "source": [
    "query = \"\"\"\n",
    "SELECT \n",
    "    AVG(portfolio_loss) AS expected_loss,\n",
    "    MAX(portfolio_loss) AS max_loss,\n",
    "    MIN(portfolio_loss) AS min_loss\n",
    "FROM simulation_results\n",
    "\"\"\"\n",
    "summary_stats = pd.read_sql_query(query, conn)\n",
    "summary_stats\n"
   ]
  },
  {
   "cell_type": "code",
   "execution_count": 11,
   "id": "5c5f95cb-ceac-45f2-b2c2-08826e392c48",
   "metadata": {},
   "outputs": [
    {
     "data": {
      "text/html": [
       "<div>\n",
       "<style scoped>\n",
       "    .dataframe tbody tr th:only-of-type {\n",
       "        vertical-align: middle;\n",
       "    }\n",
       "\n",
       "    .dataframe tbody tr th {\n",
       "        vertical-align: top;\n",
       "    }\n",
       "\n",
       "    .dataframe thead th {\n",
       "        text-align: right;\n",
       "    }\n",
       "</style>\n",
       "<table border=\"1\" class=\"dataframe\">\n",
       "  <thead>\n",
       "    <tr style=\"text-align: right;\">\n",
       "      <th></th>\n",
       "      <th>expected_loss</th>\n",
       "      <th>max_loss</th>\n",
       "      <th>min_loss</th>\n",
       "    </tr>\n",
       "  </thead>\n",
       "  <tbody>\n",
       "    <tr>\n",
       "      <th>0</th>\n",
       "      <td>5.675572e+06</td>\n",
       "      <td>9.111868e+06</td>\n",
       "      <td>3.105741e+06</td>\n",
       "    </tr>\n",
       "  </tbody>\n",
       "</table>\n",
       "</div>"
      ],
      "text/plain": [
       "   expected_loss      max_loss      min_loss\n",
       "0   5.675572e+06  9.111868e+06  3.105741e+06"
      ]
     },
     "execution_count": 11,
     "metadata": {},
     "output_type": "execute_result"
    }
   ],
   "source": [
    "query = \"\"\"\n",
    "SELECT \n",
    "    AVG(portfolio_loss) AS expected_loss,\n",
    "    MAX(portfolio_loss) AS max_loss,\n",
    "    MIN(portfolio_loss) AS min_loss\n",
    "FROM simulation_results\n",
    "\"\"\"\n",
    "summary_stats = pd.read_sql_query(query, conn)\n",
    "summary_stats\n"
   ]
  },
  {
   "cell_type": "markdown",
   "id": "4765d32e-5423-49fb-a67a-05db3c56c28e",
   "metadata": {},
   "source": [
    "## Close Database Connection\n"
   ]
  },
  {
   "cell_type": "code",
   "execution_count": 12,
   "id": "a4e657ca-cd4b-4c3f-a7d7-423b2941d329",
   "metadata": {},
   "outputs": [
    {
     "name": "stdout",
     "output_type": "stream",
     "text": [
      "✅ Database connection closed\n"
     ]
    }
   ],
   "source": [
    "conn.close()\n",
    "print(\"✅ Database connection closed\")\n"
   ]
  },
  {
   "cell_type": "code",
   "execution_count": null,
   "id": "502453e4-30d3-41b2-a814-61f9cbbc3f20",
   "metadata": {},
   "outputs": [],
   "source": []
  }
 ],
 "metadata": {
  "kernelspec": {
   "display_name": "Python 3 (ipykernel)",
   "language": "python",
   "name": "python3"
  },
  "language_info": {
   "codemirror_mode": {
    "name": "ipython",
    "version": 3
   },
   "file_extension": ".py",
   "mimetype": "text/x-python",
   "name": "python",
   "nbconvert_exporter": "python",
   "pygments_lexer": "ipython3",
   "version": "3.11.2"
  }
 },
 "nbformat": 4,
 "nbformat_minor": 5
}
