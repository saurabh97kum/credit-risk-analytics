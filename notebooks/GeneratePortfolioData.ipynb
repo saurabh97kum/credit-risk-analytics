{
 "cells": [
  {
   "cell_type": "markdown",
   "id": "87e1b0e5-b5e9-4788-af3b-9aeef7353c8d",
   "metadata": {},
   "source": [
    "# Generate Synthetic Credit Portfolio Data\n",
    "\n",
    "**Goal:**  \n",
    "Create a mock credit portfolio dataset with borrowers, loans, and risk metrics (PD, LGD, EAD).  \n",
    "This dataset will be used in later steps for exploratory analysis, modeling, and Monte Carlo simulations.\n",
    "\n",
    "**Dataset Includes:**\n",
    "- Borrower info: BorrowerID, Age, Income, CreditScore\n",
    "- Loan info: LoanAmount, InterestRate, TermMonths\n",
    "- Risk metrics: PD (Probability of Default), LGD (Loss Given Default), EAD (Exposure at Default)\n",
    "\n",
    "The dataset will be saved in `data/input_raw/credit_portfolio.csv`.\n"
   ]
  },
  {
   "cell_type": "code",
   "execution_count": 1,
   "id": "84dbfacd-784d-4946-b252-13b1935de6b3",
   "metadata": {},
   "outputs": [
    {
     "name": "stdout",
     "output_type": "stream",
     "text": [
      "✅ Libraries imported and folders ready\n"
     ]
    }
   ],
   "source": [
    "# Import necessary libraries\n",
    "import numpy as np\n",
    "import pandas as pd\n",
    "from pathlib import Path\n",
    "\n",
    "# Set random seed for reproducibility\n",
    "np.random.seed(42)\n",
    "\n",
    "# Base path for saving files\n",
    "base_path = Path(\"../data/input_raw\")\n",
    "base_path.mkdir(parents=True, exist_ok=True)  # ensure folder exists\n",
    "\n",
    "print(\"✅ Libraries imported and folders ready\")\n"
   ]
  },
  {
   "cell_type": "markdown",
   "id": "8a43e3de-e101-42d6-8a0c-430d48920b44",
   "metadata": {},
   "source": [
    "## Define Dataset Parameters\n",
    "\n",
    "We will simulate:\n",
    "- `n_borrowers = 1000`\n",
    "- Age: 21–70\n",
    "- Income: $20,000–$150,000\n",
    "- CreditScore: 300–850\n",
    "- LoanAmount: $5,000–$500,000\n",
    "- InterestRate: 3%–20%\n",
    "- TermMonths: [12, 24, 36, 48, 60]\n",
    "\n",
    "Risk metrics (synthetic):\n",
    "- PD: Beta distribution (0–1)\n",
    "- LGD: Beta distribution (0–1)\n",
    "- EAD: LoanAmount × random factor (0.8–1.0)\n"
   ]
  },
  {
   "cell_type": "code",
   "execution_count": 2,
   "id": "7c0317bb-4ca6-4e7f-a6c5-9d4c2305626d",
   "metadata": {},
   "outputs": [
    {
     "name": "stdout",
     "output_type": "stream",
     "text": [
      "✅ Borrower and loan data generated\n"
     ]
    },
    {
     "data": {
      "text/html": [
       "<div>\n",
       "<style scoped>\n",
       "    .dataframe tbody tr th:only-of-type {\n",
       "        vertical-align: middle;\n",
       "    }\n",
       "\n",
       "    .dataframe tbody tr th {\n",
       "        vertical-align: top;\n",
       "    }\n",
       "\n",
       "    .dataframe thead th {\n",
       "        text-align: right;\n",
       "    }\n",
       "</style>\n",
       "<table border=\"1\" class=\"dataframe\">\n",
       "  <thead>\n",
       "    <tr style=\"text-align: right;\">\n",
       "      <th></th>\n",
       "      <th>BorrowerID</th>\n",
       "      <th>Age</th>\n",
       "      <th>Income</th>\n",
       "      <th>CreditScore</th>\n",
       "      <th>LoanAmount</th>\n",
       "      <th>InterestRate</th>\n",
       "      <th>TermMonths</th>\n",
       "    </tr>\n",
       "  </thead>\n",
       "  <tbody>\n",
       "    <tr>\n",
       "      <th>0</th>\n",
       "      <td>1</td>\n",
       "      <td>59</td>\n",
       "      <td>24324</td>\n",
       "      <td>766</td>\n",
       "      <td>136717</td>\n",
       "      <td>0.0837</td>\n",
       "      <td>24</td>\n",
       "    </tr>\n",
       "    <tr>\n",
       "      <th>1</th>\n",
       "      <td>2</td>\n",
       "      <td>49</td>\n",
       "      <td>96323</td>\n",
       "      <td>713</td>\n",
       "      <td>167002</td>\n",
       "      <td>0.1396</td>\n",
       "      <td>12</td>\n",
       "    </tr>\n",
       "    <tr>\n",
       "      <th>2</th>\n",
       "      <td>3</td>\n",
       "      <td>35</td>\n",
       "      <td>29111</td>\n",
       "      <td>754</td>\n",
       "      <td>266691</td>\n",
       "      <td>0.0972</td>\n",
       "      <td>48</td>\n",
       "    </tr>\n",
       "    <tr>\n",
       "      <th>3</th>\n",
       "      <td>4</td>\n",
       "      <td>63</td>\n",
       "      <td>58110</td>\n",
       "      <td>532</td>\n",
       "      <td>86835</td>\n",
       "      <td>0.1512</td>\n",
       "      <td>12</td>\n",
       "    </tr>\n",
       "    <tr>\n",
       "      <th>4</th>\n",
       "      <td>5</td>\n",
       "      <td>28</td>\n",
       "      <td>36389</td>\n",
       "      <td>523</td>\n",
       "      <td>127232</td>\n",
       "      <td>0.0639</td>\n",
       "      <td>60</td>\n",
       "    </tr>\n",
       "  </tbody>\n",
       "</table>\n",
       "</div>"
      ],
      "text/plain": [
       "   BorrowerID  Age  Income  CreditScore  LoanAmount  InterestRate  TermMonths\n",
       "0           1   59   24324          766      136717        0.0837          24\n",
       "1           2   49   96323          713      167002        0.1396          12\n",
       "2           3   35   29111          754      266691        0.0972          48\n",
       "3           4   63   58110          532       86835        0.1512          12\n",
       "4           5   28   36389          523      127232        0.0639          60"
      ]
     },
     "execution_count": 2,
     "metadata": {},
     "output_type": "execute_result"
    }
   ],
   "source": [
    "# Number of borrowers\n",
    "n_borrowers = 1000\n",
    "\n",
    "# Generate synthetic borrower and loan data\n",
    "data = pd.DataFrame({\n",
    "    \"BorrowerID\": range(1, n_borrowers + 1),\n",
    "    \"Age\": np.random.randint(21, 70, size=n_borrowers),\n",
    "    \"Income\": np.random.randint(20000, 150000, size=n_borrowers),\n",
    "    \"CreditScore\": np.random.randint(300, 850, size=n_borrowers),\n",
    "    \"LoanAmount\": np.random.randint(5000, 500000, size=n_borrowers),\n",
    "    \"InterestRate\": np.round(np.random.uniform(0.03, 0.2, size=n_borrowers), 4),\n",
    "    \"TermMonths\": np.random.choice([12, 24, 36, 48, 60], size=n_borrowers)\n",
    "})\n",
    "\n",
    "print(\"✅ Borrower and loan data generated\")\n",
    "data.head()\n"
   ]
  },
  {
   "cell_type": "markdown",
   "id": "56a64e23-6edd-4a81-bf8c-9b053db6e3f9",
   "metadata": {},
   "source": [
    "## Generate Synthetic Risk Metrics\n",
    "\n",
    "We create:\n",
    "- PD (Probability of Default) → Beta distribution\n",
    "- LGD (Loss Given Default) → Beta distribution\n",
    "- EAD (Exposure at Default) → LoanAmount × random factor\n",
    "\n",
    "<details>\n",
    "<summary>Why Beta distribution?</summary>\n",
    "Beta distribution is useful for probabilities (values between 0 and 1). It allows flexibility in shaping distributions to mimic real-world default and loss rates.\n",
    "</details>\n"
   ]
  },
  {
   "cell_type": "code",
   "execution_count": 3,
   "id": "223a9ba6-4e9c-4e77-8b52-7e5c29c7ad96",
   "metadata": {},
   "outputs": [
    {
     "name": "stdout",
     "output_type": "stream",
     "text": [
      "✅ Risk metrics (PD, LGD, EAD) generated\n"
     ]
    },
    {
     "data": {
      "text/html": [
       "<div>\n",
       "<style scoped>\n",
       "    .dataframe tbody tr th:only-of-type {\n",
       "        vertical-align: middle;\n",
       "    }\n",
       "\n",
       "    .dataframe tbody tr th {\n",
       "        vertical-align: top;\n",
       "    }\n",
       "\n",
       "    .dataframe thead th {\n",
       "        text-align: right;\n",
       "    }\n",
       "</style>\n",
       "<table border=\"1\" class=\"dataframe\">\n",
       "  <thead>\n",
       "    <tr style=\"text-align: right;\">\n",
       "      <th></th>\n",
       "      <th>BorrowerID</th>\n",
       "      <th>Age</th>\n",
       "      <th>Income</th>\n",
       "      <th>CreditScore</th>\n",
       "      <th>LoanAmount</th>\n",
       "      <th>InterestRate</th>\n",
       "      <th>TermMonths</th>\n",
       "      <th>PD</th>\n",
       "      <th>LGD</th>\n",
       "      <th>EAD</th>\n",
       "    </tr>\n",
       "  </thead>\n",
       "  <tbody>\n",
       "    <tr>\n",
       "      <th>0</th>\n",
       "      <td>1</td>\n",
       "      <td>59</td>\n",
       "      <td>24324</td>\n",
       "      <td>766</td>\n",
       "      <td>136717</td>\n",
       "      <td>0.0837</td>\n",
       "      <td>24</td>\n",
       "      <td>0.0599</td>\n",
       "      <td>0.3606</td>\n",
       "      <td>121789.20</td>\n",
       "    </tr>\n",
       "    <tr>\n",
       "      <th>1</th>\n",
       "      <td>2</td>\n",
       "      <td>49</td>\n",
       "      <td>96323</td>\n",
       "      <td>713</td>\n",
       "      <td>167002</td>\n",
       "      <td>0.1396</td>\n",
       "      <td>12</td>\n",
       "      <td>0.0442</td>\n",
       "      <td>0.3472</td>\n",
       "      <td>150060.00</td>\n",
       "    </tr>\n",
       "    <tr>\n",
       "      <th>2</th>\n",
       "      <td>3</td>\n",
       "      <td>35</td>\n",
       "      <td>29111</td>\n",
       "      <td>754</td>\n",
       "      <td>266691</td>\n",
       "      <td>0.0972</td>\n",
       "      <td>48</td>\n",
       "      <td>0.0248</td>\n",
       "      <td>0.1261</td>\n",
       "      <td>233692.63</td>\n",
       "    </tr>\n",
       "    <tr>\n",
       "      <th>3</th>\n",
       "      <td>4</td>\n",
       "      <td>63</td>\n",
       "      <td>58110</td>\n",
       "      <td>532</td>\n",
       "      <td>86835</td>\n",
       "      <td>0.1512</td>\n",
       "      <td>12</td>\n",
       "      <td>0.1105</td>\n",
       "      <td>0.1895</td>\n",
       "      <td>72685.55</td>\n",
       "    </tr>\n",
       "    <tr>\n",
       "      <th>4</th>\n",
       "      <td>5</td>\n",
       "      <td>28</td>\n",
       "      <td>36389</td>\n",
       "      <td>523</td>\n",
       "      <td>127232</td>\n",
       "      <td>0.0639</td>\n",
       "      <td>60</td>\n",
       "      <td>0.1209</td>\n",
       "      <td>0.1278</td>\n",
       "      <td>110827.12</td>\n",
       "    </tr>\n",
       "  </tbody>\n",
       "</table>\n",
       "</div>"
      ],
      "text/plain": [
       "   BorrowerID  Age  Income  CreditScore  LoanAmount  InterestRate  TermMonths  \\\n",
       "0           1   59   24324          766      136717        0.0837          24   \n",
       "1           2   49   96323          713      167002        0.1396          12   \n",
       "2           3   35   29111          754      266691        0.0972          48   \n",
       "3           4   63   58110          532       86835        0.1512          12   \n",
       "4           5   28   36389          523      127232        0.0639          60   \n",
       "\n",
       "       PD     LGD        EAD  \n",
       "0  0.0599  0.3606  121789.20  \n",
       "1  0.0442  0.3472  150060.00  \n",
       "2  0.0248  0.1261  233692.63  \n",
       "3  0.1105  0.1895   72685.55  \n",
       "4  0.1209  0.1278  110827.12  "
      ]
     },
     "execution_count": 3,
     "metadata": {},
     "output_type": "execute_result"
    }
   ],
   "source": [
    "# PD: Probability of Default\n",
    "data[\"PD\"] = np.round(np.random.beta(a=2, b=20, size=n_borrowers), 4)\n",
    "\n",
    "# LGD: Loss Given Default\n",
    "data[\"LGD\"] = np.round(np.random.beta(a=2, b=5, size=n_borrowers), 4)\n",
    "\n",
    "# EAD: Exposure at Default\n",
    "data[\"EAD\"] = np.round(data[\"LoanAmount\"] * np.random.uniform(0.8, 1.0, size=n_borrowers), 2)\n",
    "\n",
    "print(\"✅ Risk metrics (PD, LGD, EAD) generated\")\n",
    "data.head()\n"
   ]
  },
  {
   "cell_type": "markdown",
   "id": "e941b038-b358-4f74-9a8a-b0bd26bcf549",
   "metadata": {},
   "source": [
    "## Save the Synthetic Dataset\n",
    "\n",
    "The dataset will be saved to : data/input_raw/credit_portfolio.csv\n",
    "\n"
   ]
  },
  {
   "cell_type": "code",
   "execution_count": 6,
   "id": "ef21187c-cbb6-4893-b299-a82d058a75e0",
   "metadata": {},
   "outputs": [
    {
     "name": "stdout",
     "output_type": "stream",
     "text": [
      "✅ Dataset saved to ../data/input_raw/credit_portfolio.csv\n"
     ]
    }
   ],
   "source": [
    "# Save dataset to CSV\n",
    "output_file = base_path / \"credit_portfolio.csv\"\n",
    "data.to_csv(output_file, index=False)\n",
    "\n",
    "print(f\"✅ Dataset saved to {output_file}\")\n"
   ]
  },
  {
   "cell_type": "markdown",
   "id": "4879a344-7fde-4122-85f5-01355f3d9c07",
   "metadata": {},
   "source": [
    "### Summary\n",
    "\n",
    "- Synthetic portfolio with 1000 borrowers created\n",
    "- Includes borrower info, loan info, and risk metrics\n",
    "- Saved in `data/input_raw/credit_portfolio.csv`\n",
    "- Ready for next step: Exploratory Data Analysis (EDA)\n"
   ]
  },
  {
   "cell_type": "code",
   "execution_count": 8,
   "id": "e60e8af9-f4f9-478e-bdc8-0bdaf09bc2a8",
   "metadata": {},
   "outputs": [
    {
     "name": "stdout",
     "output_type": "stream",
     "text": [
      "✅ Dataset saved to: /home/skumar/Desktop/credit-risk-analytics/data/input_raw/credit_portfolio.csv\n"
     ]
    }
   ],
   "source": [
    "from pathlib import Path\n",
    "\n",
    "# Absolute path to project folder\n",
    "project_path = Path(\"/home/skumar/Desktop/credit-risk-analytics\")\n",
    "output_file = project_path / \"data/input_raw/credit_portfolio.csv\"\n",
    "\n",
    "data.to_csv(output_file, index=False)\n",
    "print(\"✅ Dataset saved to:\", output_file)\n"
   ]
  },
  {
   "cell_type": "code",
   "execution_count": null,
   "id": "0567c8a9-484d-44c7-94f1-e6e03477200d",
   "metadata": {},
   "outputs": [],
   "source": []
  }
 ],
 "metadata": {
  "kernelspec": {
   "display_name": "Python 3 (ipykernel)",
   "language": "python",
   "name": "python3"
  },
  "language_info": {
   "codemirror_mode": {
    "name": "ipython",
    "version": 3
   },
   "file_extension": ".py",
   "mimetype": "text/x-python",
   "name": "python",
   "nbconvert_exporter": "python",
   "pygments_lexer": "ipython3",
   "version": "3.11.2"
  }
 },
 "nbformat": 4,
 "nbformat_minor": 5
}
