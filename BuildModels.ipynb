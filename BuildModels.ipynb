{
 "cells": [
  {
   "cell_type": "markdown",
   "id": "29dea842-8b1b-4620-81da-eef7c4948eee",
   "metadata": {},
   "source": [
    "# Build Models \n",
    "\n",
    "**Goal:**  \n",
    "Build predictive models for:\n",
    "- PD (Probability of Default)\n",
    "- LGD (Loss Given Default)\n",
    "- EAD (Exposure at Default)\n",
    "\n",
    "Using the synthetic dataset generated in GeneratePortfolioData.ipynb.\n"
   ]
  },
  {
   "cell_type": "code",
   "execution_count": 1,
   "id": "649ef193-7add-4cde-88c6-ebf877254fe2",
   "metadata": {},
   "outputs": [
    {
     "name": "stdout",
     "output_type": "stream",
     "text": [
      "✅ Data loaded successfully\n"
     ]
    },
    {
     "data": {
      "text/html": [
       "<div>\n",
       "<style scoped>\n",
       "    .dataframe tbody tr th:only-of-type {\n",
       "        vertical-align: middle;\n",
       "    }\n",
       "\n",
       "    .dataframe tbody tr th {\n",
       "        vertical-align: top;\n",
       "    }\n",
       "\n",
       "    .dataframe thead th {\n",
       "        text-align: right;\n",
       "    }\n",
       "</style>\n",
       "<table border=\"1\" class=\"dataframe\">\n",
       "  <thead>\n",
       "    <tr style=\"text-align: right;\">\n",
       "      <th></th>\n",
       "      <th>BorrowerID</th>\n",
       "      <th>Age</th>\n",
       "      <th>Income</th>\n",
       "      <th>CreditScore</th>\n",
       "      <th>LoanAmount</th>\n",
       "      <th>InterestRate</th>\n",
       "      <th>TermMonths</th>\n",
       "      <th>PD</th>\n",
       "      <th>LGD</th>\n",
       "      <th>EAD</th>\n",
       "    </tr>\n",
       "  </thead>\n",
       "  <tbody>\n",
       "    <tr>\n",
       "      <th>0</th>\n",
       "      <td>1</td>\n",
       "      <td>59</td>\n",
       "      <td>24324</td>\n",
       "      <td>766</td>\n",
       "      <td>136717</td>\n",
       "      <td>0.0837</td>\n",
       "      <td>24</td>\n",
       "      <td>0.0599</td>\n",
       "      <td>0.3606</td>\n",
       "      <td>121789.20</td>\n",
       "    </tr>\n",
       "    <tr>\n",
       "      <th>1</th>\n",
       "      <td>2</td>\n",
       "      <td>49</td>\n",
       "      <td>96323</td>\n",
       "      <td>713</td>\n",
       "      <td>167002</td>\n",
       "      <td>0.1396</td>\n",
       "      <td>12</td>\n",
       "      <td>0.0442</td>\n",
       "      <td>0.3472</td>\n",
       "      <td>150060.00</td>\n",
       "    </tr>\n",
       "    <tr>\n",
       "      <th>2</th>\n",
       "      <td>3</td>\n",
       "      <td>35</td>\n",
       "      <td>29111</td>\n",
       "      <td>754</td>\n",
       "      <td>266691</td>\n",
       "      <td>0.0972</td>\n",
       "      <td>48</td>\n",
       "      <td>0.0248</td>\n",
       "      <td>0.1261</td>\n",
       "      <td>233692.63</td>\n",
       "    </tr>\n",
       "    <tr>\n",
       "      <th>3</th>\n",
       "      <td>4</td>\n",
       "      <td>63</td>\n",
       "      <td>58110</td>\n",
       "      <td>532</td>\n",
       "      <td>86835</td>\n",
       "      <td>0.1512</td>\n",
       "      <td>12</td>\n",
       "      <td>0.1105</td>\n",
       "      <td>0.1895</td>\n",
       "      <td>72685.55</td>\n",
       "    </tr>\n",
       "    <tr>\n",
       "      <th>4</th>\n",
       "      <td>5</td>\n",
       "      <td>28</td>\n",
       "      <td>36389</td>\n",
       "      <td>523</td>\n",
       "      <td>127232</td>\n",
       "      <td>0.0639</td>\n",
       "      <td>60</td>\n",
       "      <td>0.1209</td>\n",
       "      <td>0.1278</td>\n",
       "      <td>110827.12</td>\n",
       "    </tr>\n",
       "  </tbody>\n",
       "</table>\n",
       "</div>"
      ],
      "text/plain": [
       "   BorrowerID  Age  Income  CreditScore  LoanAmount  InterestRate  TermMonths  \\\n",
       "0           1   59   24324          766      136717        0.0837          24   \n",
       "1           2   49   96323          713      167002        0.1396          12   \n",
       "2           3   35   29111          754      266691        0.0972          48   \n",
       "3           4   63   58110          532       86835        0.1512          12   \n",
       "4           5   28   36389          523      127232        0.0639          60   \n",
       "\n",
       "       PD     LGD        EAD  \n",
       "0  0.0599  0.3606  121789.20  \n",
       "1  0.0442  0.3472  150060.00  \n",
       "2  0.0248  0.1261  233692.63  \n",
       "3  0.1105  0.1895   72685.55  \n",
       "4  0.1209  0.1278  110827.12  "
      ]
     },
     "execution_count": 1,
     "metadata": {},
     "output_type": "execute_result"
    }
   ],
   "source": [
    "import pandas as pd\n",
    "from pathlib import Path\n",
    "\n",
    "# Path to the dataset\n",
    "project_path = Path(\"/home/skumar/Desktop/credit-risk-analytics\")\n",
    "csv_file = project_path / \"data/input_raw/credit_portfolio.csv\"\n",
    "\n",
    "# Load dataset\n",
    "data = pd.read_csv(csv_file)\n",
    "print(\"✅ Data loaded successfully\")\n",
    "data.head()\n"
   ]
  },
  {
   "cell_type": "markdown",
   "id": "75dd3052-e656-4cee-b813-ba8f48a5b291",
   "metadata": {},
   "source": [
    "## PD Model\n",
    "\n",
    "- Target: PD\n",
    "- Features: Age, Income, CreditScore, LoanAmount, InterestRate, TermMonths\n",
    "- Model: Logistic Regression (PD scaled to binary: default or no default)\n"
   ]
  },
  {
   "cell_type": "code",
   "execution_count": 2,
   "id": "78c0b63b-2db7-4353-bff5-6c69d601dae3",
   "metadata": {},
   "outputs": [
    {
     "name": "stdout",
     "output_type": "stream",
     "text": [
      "✅ PD Model AUC: 0.480\n"
     ]
    }
   ],
   "source": [
    "from sklearn.linear_model import LogisticRegression\n",
    "from sklearn.model_selection import train_test_split\n",
    "from sklearn.metrics import roc_auc_score\n",
    "\n",
    "# Create binary PD target (example: PD > 0.1 -> 1, else 0)\n",
    "data[\"PD_binary\"] = (data[\"PD\"] > 0.1).astype(int)\n",
    "\n",
    "# Features\n",
    "X = data[[\"Age\", \"Income\", \"CreditScore\", \"LoanAmount\", \"InterestRate\", \"TermMonths\"]]\n",
    "y = data[\"PD_binary\"]\n",
    "\n",
    "# Train/test split\n",
    "X_train, X_test, y_train, y_test = train_test_split(X, y, test_size=0.2, random_state=42)\n",
    "\n",
    "# Fit model\n",
    "pd_model = LogisticRegression(max_iter=1000)\n",
    "pd_model.fit(X_train, y_train)\n",
    "\n",
    "# Evaluate\n",
    "y_pred = pd_model.predict_proba(X_test)[:,1]\n",
    "auc = roc_auc_score(y_test, y_pred)\n",
    "print(f\"✅ PD Model AUC: {auc:.3f}\")\n"
   ]
  },
  {
   "cell_type": "markdown",
   "id": "cf3dd56f-4172-480b-9b5f-4c3ce6382ed7",
   "metadata": {},
   "source": [
    "## LGD Model\n",
    "\n",
    "- Target: LGD\n",
    "- Features: same as PD\n",
    "- Model: Linear Regression\n"
   ]
  },
  {
   "cell_type": "code",
   "execution_count": 3,
   "id": "3bba90ed-9695-48e3-9af0-cc368285d4d8",
   "metadata": {},
   "outputs": [
    {
     "name": "stdout",
     "output_type": "stream",
     "text": [
      "✅ LGD Model MSE: 0.0255\n"
     ]
    }
   ],
   "source": [
    "from sklearn.linear_model import LinearRegression\n",
    "from sklearn.metrics import mean_squared_error\n",
    "\n",
    "# Target and features\n",
    "y_lgd = data[\"LGD\"]\n",
    "\n",
    "# Train/test split\n",
    "X_train_lgd, X_test_lgd, y_train_lgd, y_test_lgd = train_test_split(X, y_lgd, test_size=0.2, random_state=42)\n",
    "\n",
    "# Fit model\n",
    "lgd_model = LinearRegression()\n",
    "lgd_model.fit(X_train_lgd, y_train_lgd)\n",
    "\n",
    "# Evaluate\n",
    "y_pred_lgd = lgd_model.predict(X_test_lgd)\n",
    "mse = mean_squared_error(y_test_lgd, y_pred_lgd)\n",
    "print(f\"✅ LGD Model MSE: {mse:.4f}\")\n"
   ]
  },
  {
   "cell_type": "markdown",
   "id": "c1e291b6-e4e7-401d-8d29-4e3e07037080",
   "metadata": {},
   "source": [
    "## EAD Model\n",
    "\n",
    "- Target: EAD\n",
    "- Features: same as PD/LGD\n",
    "- Model: Linear Regression\n"
   ]
  },
  {
   "cell_type": "code",
   "execution_count": 4,
   "id": "cc721285-9841-4763-8185-ad5fd944b25b",
   "metadata": {},
   "outputs": [
    {
     "name": "stdout",
     "output_type": "stream",
     "text": [
      "✅ EAD Model MSE: 281692031.21\n"
     ]
    }
   ],
   "source": [
    "# Target and features\n",
    "y_ead = data[\"EAD\"]\n",
    "\n",
    "# Train/test split\n",
    "X_train_ead, X_test_ead, y_train_ead, y_test_ead = train_test_split(X, y_ead, test_size=0.2, random_state=42)\n",
    "\n",
    "# Fit model\n",
    "ead_model = LinearRegression()\n",
    "ead_model.fit(X_train_ead, y_train_ead)\n",
    "\n",
    "# Evaluate\n",
    "y_pred_ead = ead_model.predict(X_test_ead)\n",
    "mse_ead = mean_squared_error(y_test_ead, y_pred_ead)\n",
    "print(f\"✅ EAD Model MSE: {mse_ead:.2f}\")\n"
   ]
  },
  {
   "cell_type": "markdown",
   "id": "abb913d1-6b01-4db7-955c-7bca2f41e49e",
   "metadata": {},
   "source": [
    "### Summary\n",
    "\n",
    "- Built **PD, LGD, EAD models** using synthetic dataset\n",
    "- PD: Logistic Regression, evaluated via AUC\n",
    "- LGD: Linear Regression, evaluated via MSE\n",
    "- EAD: Linear Regression, evaluated via MSE\n",
    "- Dataset ready for Monte Carlo simulation\n"
   ]
  },
  {
   "cell_type": "code",
   "execution_count": null,
   "id": "9ebc8635-b0d3-462b-83bc-f70b1712ed0c",
   "metadata": {},
   "outputs": [],
   "source": []
  }
 ],
 "metadata": {
  "kernelspec": {
   "display_name": "Python 3 (ipykernel)",
   "language": "python",
   "name": "python3"
  },
  "language_info": {
   "codemirror_mode": {
    "name": "ipython",
    "version": 3
   },
   "file_extension": ".py",
   "mimetype": "text/x-python",
   "name": "python",
   "nbconvert_exporter": "python",
   "pygments_lexer": "ipython3",
   "version": "3.11.2"
  }
 },
 "nbformat": 4,
 "nbformat_minor": 5
}
